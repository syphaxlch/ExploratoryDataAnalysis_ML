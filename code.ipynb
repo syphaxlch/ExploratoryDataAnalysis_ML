{
 "cells": [
  {
   "cell_type": "code",
   "execution_count": 18,
   "id": "4bc52c28-8be5-4f43-a13c-bc6091c40e7d",
   "metadata": {},
   "outputs": [],
   "source": [
    "import pandas as pd\n",
    "import os\n",
    "import yaml"
   ]
  },
  {
   "cell_type": "code",
   "execution_count": 20,
   "id": "1ea8e205-7fd2-422e-a4e0-61ef6a2cfe50",
   "metadata": {},
   "outputs": [
    {
     "name": "stdout",
     "output_type": "stream",
     "text": [
      "['data.json', 'dictionary.yml', 'schema.ddl', 'schema.jsch']\n"
     ]
    }
   ],
   "source": [
    "# List files in the data folder\n",
    "data_files = os.listdir('data')\n",
    "print(data_files)"
   ]
  },
  {
   "cell_type": "code",
   "execution_count": 22,
   "id": "4a67108d-2c5a-448f-8a45-bc88d965a414",
   "metadata": {},
   "outputs": [],
   "source": [
    "# Charger le fichier JSON Lines dans un DataFrame\n",
    "df_data = pd.read_json('data/data.json', encoding='utf-8', lines=True)\n",
    "with open('data/dictionary.yml', 'r') as file:\n",
    "    data_yaml = yaml.safe_load(file)\n",
    "df_dict = pd.DataFrame(data_yaml['data-schema'])\n",
    "with open('data/schema.jsch', 'r') as file:\n",
    "    schema = json.load(file)\n"
   ]
  },
  {
   "cell_type": "code",
   "execution_count": 14,
   "id": "46a1dbb5-5c75-4202-a9ad-e5af441fabde",
   "metadata": {},
   "outputs": [
    {
     "data": {
      "text/plain": [
       "{'definitions': {'record:cz.muni.csirt.IPFlowEntry': {'type': 'object',\n",
       "   'required': [],\n",
       "   'additionalProperties': False,\n",
       "   'properties': {'applicationId': {'oneOf': [{'type': 'string'},\n",
       "      {'type': 'null'}]},\n",
       "    'applicationName': {'oneOf': [{'type': 'string'}, {'type': 'null'}]},\n",
       "    'bgpDestinationAsNumber': {'oneOf': [{'type': 'integer',\n",
       "       'minimum': -9223372036854775808,\n",
       "       'maximum': 9223372036854775807},\n",
       "      {'type': 'null'}]},\n",
       "    'bgpSourceAsNumber': {'oneOf': [{'type': 'integer',\n",
       "       'minimum': -9223372036854775808,\n",
       "       'maximum': 9223372036854775807},\n",
       "      {'type': 'null'}]},\n",
       "    'biFlowEndMilliseconds': {'oneOf': [{'type': 'integer',\n",
       "       'minimum': -9223372036854775808,\n",
       "       'maximum': 9223372036854775807},\n",
       "      {'type': 'null'}]},\n",
       "    'biFlowStartMilliseconds': {'oneOf': [{'type': 'integer',\n",
       "       'minimum': -9223372036854775808,\n",
       "       'maximum': 9223372036854775807},\n",
       "      {'type': 'null'}]},\n",
       "    'destinationIPv4Address': {'oneOf': [{'type': 'string'},\n",
       "      {'type': 'null'}]},\n",
       "    'destinationTransportPort': {'oneOf': [{'type': 'integer',\n",
       "       'minimum': -9223372036854775808,\n",
       "       'maximum': 9223372036854775807},\n",
       "      {'type': 'null'}]},\n",
       "    'exercise_dst_ipv4_segment': {'oneOf': [{'type': 'string'},\n",
       "      {'type': 'null'}]},\n",
       "    'extendedFlow': {'oneOf': [{'$ref': '#/definitions/record:cz.muni.csirt.IPFlowEntry.extendedFlow'},\n",
       "      {'type': 'null'}]},\n",
       "    'flowEndMilliseconds': {'oneOf': [{'type': 'integer',\n",
       "       'minimum': -9223372036854775808,\n",
       "       'maximum': 9223372036854775807},\n",
       "      {'type': 'null'}]},\n",
       "    'flowEndMilliseconds_Rev': {'oneOf': [{'type': 'integer',\n",
       "       'minimum': -9223372036854775808,\n",
       "       'maximum': 9223372036854775807},\n",
       "      {'type': 'null'}]},\n",
       "    'flowStartMilliseconds': {'oneOf': [{'type': 'integer',\n",
       "       'minimum': -9223372036854775808,\n",
       "       'maximum': 9223372036854775807},\n",
       "      {'type': 'null'}]},\n",
       "    'flowStartMilliseconds_Rev': {'oneOf': [{'type': 'integer',\n",
       "       'minimum': -9223372036854775808,\n",
       "       'maximum': 9223372036854775807},\n",
       "      {'type': 'null'}]},\n",
       "    'icmpTypeCodeIPv4': {'oneOf': [{'type': 'integer',\n",
       "       'minimum': -9223372036854775808,\n",
       "       'maximum': 9223372036854775807},\n",
       "      {'type': 'null'}]},\n",
       "    'ingressInterface': {'oneOf': [{'type': 'integer',\n",
       "       'minimum': -9223372036854775808,\n",
       "       'maximum': 9223372036854775807},\n",
       "      {'type': 'null'}]},\n",
       "    'ipClassOfService': {'oneOf': [{'type': 'integer',\n",
       "       'minimum': -9223372036854775808,\n",
       "       'maximum': 9223372036854775807},\n",
       "      {'type': 'null'}]},\n",
       "    'ipVersion': {'oneOf': [{'type': 'integer',\n",
       "       'minimum': -9223372036854775808,\n",
       "       'maximum': 9223372036854775807},\n",
       "      {'type': 'null'}]},\n",
       "    'mplsLabelStackSection2': {'oneOf': [{'type': 'string'},\n",
       "      {'type': 'null'}]},\n",
       "    'mplsLabelStackSection2_Rev': {'oneOf': [{'type': 'string'},\n",
       "      {'type': 'null'}]},\n",
       "    'mplsLabelStackSection3': {'oneOf': [{'type': 'string'},\n",
       "      {'type': 'null'}]},\n",
       "    'mplsLabelStackSection3_Rev': {'oneOf': [{'type': 'string'},\n",
       "      {'type': 'null'}]},\n",
       "    'mplsLabelStackSection4': {'oneOf': [{'type': 'string'},\n",
       "      {'type': 'null'}]},\n",
       "    'mplsLabelStackSection4_Rev': {'oneOf': [{'type': 'string'},\n",
       "      {'type': 'null'}]},\n",
       "    'mplsTopLabelStackSection': {'oneOf': [{'type': 'string'},\n",
       "      {'type': 'null'}]},\n",
       "    'mplsTopLabelStackSection_Rev': {'oneOf': [{'type': 'string'},\n",
       "      {'type': 'null'}]},\n",
       "    'octetDeltaCount': {'oneOf': [{'type': 'integer',\n",
       "       'minimum': -9223372036854775808,\n",
       "       'maximum': 9223372036854775807},\n",
       "      {'type': 'null'}]},\n",
       "    'octetDeltaCount_Rev': {'oneOf': [{'type': 'integer',\n",
       "       'minimum': -9223372036854775808,\n",
       "       'maximum': 9223372036854775807},\n",
       "      {'type': 'null'}]},\n",
       "    'packetDeltaCount': {'oneOf': [{'type': 'integer',\n",
       "       'minimum': -9223372036854775808,\n",
       "       'maximum': 9223372036854775807},\n",
       "      {'type': 'null'}]},\n",
       "    'packetDeltaCount_Rev': {'oneOf': [{'type': 'integer',\n",
       "       'minimum': -9223372036854775808,\n",
       "       'maximum': 9223372036854775807},\n",
       "      {'type': 'null'}]},\n",
       "    'protocolIdentifier': {'oneOf': [{'type': 'integer',\n",
       "       'minimum': -9223372036854775808,\n",
       "       'maximum': 9223372036854775807},\n",
       "      {'type': 'null'}]},\n",
       "    'samplingAlgorithm': {'oneOf': [{'type': 'integer',\n",
       "       'minimum': -9223372036854775808,\n",
       "       'maximum': 9223372036854775807},\n",
       "      {'type': 'null'}]},\n",
       "    'samplingInterval': {'oneOf': [{'type': 'integer',\n",
       "       'minimum': -9223372036854775808,\n",
       "       'maximum': 9223372036854775807},\n",
       "      {'type': 'null'}]},\n",
       "    'sourceIPv4Address': {'oneOf': [{'type': 'string'}, {'type': 'null'}]},\n",
       "    'sourceTransportPort': {'oneOf': [{'type': 'integer',\n",
       "       'minimum': -9223372036854775808,\n",
       "       'maximum': 9223372036854775807},\n",
       "      {'type': 'null'}]},\n",
       "    'tcpControlBits': {'oneOf': [{'type': 'integer',\n",
       "       'minimum': -9223372036854775808,\n",
       "       'maximum': 9223372036854775807},\n",
       "      {'type': 'null'}]},\n",
       "    'tcpControlBits_Rev': {'oneOf': [{'type': 'integer',\n",
       "       'minimum': -9223372036854775808,\n",
       "       'maximum': 9223372036854775807},\n",
       "      {'type': 'null'}]},\n",
       "    'tcpWindowSize': {'oneOf': [{'type': 'integer',\n",
       "       'minimum': -9223372036854775808,\n",
       "       'maximum': 9223372036854775807},\n",
       "      {'type': 'null'}]},\n",
       "    'timestamp': {'oneOf': [{'type': 'integer',\n",
       "       'minimum': -9223372036854775808,\n",
       "       'maximum': 9223372036854775807},\n",
       "      {'type': 'null'}]},\n",
       "    'vlanId': {'oneOf': [{'type': 'integer',\n",
       "       'minimum': -9223372036854775808,\n",
       "       'maximum': 9223372036854775807},\n",
       "      {'type': 'null'}]}}},\n",
       "  'record:cz.muni.csirt.IPFlowEntry.extendedFlow': {'type': 'object',\n",
       "   'required': ['dhcp', 'dns', 'http', 'mail', 'pgsql', 'smtp', 'tcp', 'tls'],\n",
       "   'additionalProperties': False,\n",
       "   'properties': {'dhcp': {'oneOf': [{'type': 'string'}, {'type': 'null'}]},\n",
       "    'dns': {'oneOf': [{'type': 'string'}, {'type': 'null'}]},\n",
       "    'http': {'oneOf': [{'type': 'string'}, {'type': 'null'}]},\n",
       "    'mail': {'oneOf': [{'type': 'string'}, {'type': 'null'}]},\n",
       "    'pgsql': {'oneOf': [{'type': 'string'}, {'type': 'null'}]},\n",
       "    'smtp': {'oneOf': [{'type': 'string'}, {'type': 'null'}]},\n",
       "    'tcp': {'oneOf': [{'type': 'string'}, {'type': 'null'}]},\n",
       "    'tls': {'oneOf': [{'type': 'string'}, {'type': 'null'}]}}}},\n",
       " '$ref': '#/definitions/record:cz.muni.csirt.IPFlowEntry'}"
      ]
     },
     "execution_count": 14,
     "metadata": {},
     "output_type": "execute_result"
    }
   ],
   "source": [
    "schema"
   ]
  },
  {
   "cell_type": "code",
   "execution_count": 16,
   "id": "5c1a8ce8-6953-4432-8943-ec9c8001f4a7",
   "metadata": {},
   "outputs": [
    {
     "ename": "NameError",
     "evalue": "name 'schema' is not defined",
     "output_type": "error",
     "traceback": [
      "\u001b[1;31m---------------------------------------------------------------------------\u001b[0m",
      "\u001b[1;31mNameError\u001b[0m                                 Traceback (most recent call last)",
      "Cell \u001b[1;32mIn[16], line 2\u001b[0m\n\u001b[0;32m      1\u001b[0m \u001b[38;5;66;03m# Appliquer la validation du schéma sur les colonnes de données\u001b[39;00m\n\u001b[1;32m----> 2\u001b[0m \u001b[38;5;28;01mfor\u001b[39;00m column, expected_type \u001b[38;5;129;01min\u001b[39;00m schema[\u001b[38;5;124m'\u001b[39m\u001b[38;5;124mproperties\u001b[39m\u001b[38;5;124m'\u001b[39m]\u001b[38;5;241m.\u001b[39mitems():\n\u001b[0;32m      3\u001b[0m     \u001b[38;5;28;01mif\u001b[39;00m column \u001b[38;5;129;01min\u001b[39;00m data\u001b[38;5;241m.\u001b[39mcolumns:\n\u001b[0;32m      4\u001b[0m         \u001b[38;5;28;01mif\u001b[39;00m expected_type[\u001b[38;5;124m'\u001b[39m\u001b[38;5;124mtype\u001b[39m\u001b[38;5;124m'\u001b[39m] \u001b[38;5;241m==\u001b[39m \u001b[38;5;124m'\u001b[39m\u001b[38;5;124minteger\u001b[39m\u001b[38;5;124m'\u001b[39m:\n",
      "\u001b[1;31mNameError\u001b[0m: name 'schema' is not defined"
     ]
    }
   ],
   "source": [
    "# Appliquer la validation du schéma sur les colonnes de données\n",
    "for column, expected_type in schema['properties'].items():\n",
    "    if column in data.columns:\n",
    "        if expected_type['type'] == 'integer':\n",
    "            data[column] = pd.to_numeric(data[column], errors='coerce')  # Remplacer les erreurs par NaN\n",
    "        elif expected_type['type'] == 'string':\n",
    "            data[column] = data[column].astype(str)"
   ]
  },
  {
   "cell_type": "code",
   "execution_count": 19,
   "id": "4a5da80a-9921-4a8a-96b7-d2af33d75947",
   "metadata": {},
   "outputs": [],
   "source": [
    "df_data['applicationId'] = df_data['applicationId'].fillna('null').astype(str)\n",
    "df_data['applicationName'] = df_data['applicationName'].fillna('null').astype(str)\n",
    "df_data['destinationIPv4Address'] = df_data['destinationIPv4Address'].fillna('null').astype(str)\n",
    "df_data['sourceIPv4Address'] = df_data['sourceIPv4Address'].fillna('null').astype(str)\n"
   ]
  }
 ],
 "metadata": {
  "kernelspec": {
   "display_name": "Python 3 (ipykernel)",
   "language": "python",
   "name": "python3"
  },
  "language_info": {
   "codemirror_mode": {
    "name": "ipython",
    "version": 3
   },
   "file_extension": ".py",
   "mimetype": "text/x-python",
   "name": "python",
   "nbconvert_exporter": "python",
   "pygments_lexer": "ipython3",
   "version": "3.12.4"
  }
 },
 "nbformat": 4,
 "nbformat_minor": 5
}
